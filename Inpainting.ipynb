{
    "metadata": {
        "kernelspec": {
            "name": "python3",
            "display_name": "Python 3",
            "language": "python"
        },
        "language_info": {
            "name": "python",
            "version": "3.11.2",
            "mimetype": "text/x-python",
            "codemirror_mode": {
                "name": "ipython",
                "version": 3
            },
            "pygments_lexer": "ipython3",
            "nbconvert_exporter": "python",
            "file_extension": ".py"
        },
        "colab": {
            "authorship_tag": "ABX9TyPX7cPwdudh53ZsK6vEqUeB",
            "collapsed_sections": [],
            "include_colab_link": true,
            "mount_file_id": "18dKbm2S51P_24s58rye7O_dIszX_0uGU",
            "name": "Inpainting",
            "provenance": []
        }
    },
    "nbformat_minor": 2,
    "nbformat": 4,
    "cells": [
        {
            "cell_type": "markdown",
            "source": [
                "<a href=\"https://colab.research.google.com/github/resmyvijay/Furniture-Replacement/blob/main/Inpainting.ipynb\" target=\"_parent\"><img src=\"https://colab.research.google.com/assets/colab-badge.svg\" alt=\"Open In Colab\"/></a>"
            ],
            "metadata": {
                "colab_type": "text",
                "id": "view-in-github",
                "azdata_cell_guid": "784ebd5b-1058-4544-a68f-c59b695529f1"
            }
        },
        {
            "cell_type": "code",
            "source": [
                "\n",
                "# Install the libraries for anvil works for allowing the webapp to call this code\n",
                "\n",
                "def inpainting():\n",
                "  import os\n",
                "  import sys\n",
                "  import random\n",
                "  import math\n",
                "  import numpy as np\n",
                "  import skimage.io\n",
                "  import matplotlib\n",
                "  import matplotlib.pyplot as plt\n",
                "  import warnings\n",
                "  import time\n",
                "\n",
                "  from PIL import Image\n",
                "\n",
                "  print(\"Starting Image Inpainting\")\n",
                "  %cd /content/drive/MyDrive/Project P2/Automated-objects-removal-inpainter/\n",
                "\n",
                "  # Provide the input indoor scene image as input and get an image with the furniture object removed\n",
                "  !python test.py --input \"/content/drive/MyDrive/Project P2/Input Indoor Scene/input_indoor_scene.jpg\" --output \"/content/drive/MyDrive/Project P2/Input Indoor Scene After Image Inpainting\" --remove 18 9 11 --cpu yes\n",
                "  time.sleep(60)\n",
                "\n",
                "inpainting()"
            ],
            "metadata": {
                "colab": {
                    "background_save": true,
                    "base_uri": "https://localhost:8080/",
                    "height": 749
                },
                "id": "rIsxrFJuPCWy",
                "outputId": "82f97555-55fe-421b-90ea-6c9237348098",
                "azdata_cell_guid": "2671be62-6962-4948-8b20-1249ead214e5",
                "language": "python"
            },
            "outputs": [
                {
                    "traceback": [
                        "\u001b[1;31m---------------------------------------------------------------------------\u001b[0m",
                        "\u001b[1;31mModuleNotFoundError\u001b[0m                       Traceback (most recent call last)",
                        "Cell \u001b[1;32mIn[2], line 24\u001b[0m\n\u001b[0;32m     21\u001b[0m   get_ipython()\u001b[38;5;241m.\u001b[39msystem(\u001b[38;5;124m'\u001b[39m\u001b[38;5;124mpython test.py --input \u001b[39m\u001b[38;5;124m\"\u001b[39m\u001b[38;5;124m/content/drive/MyDrive/Project P2/Input Indoor Scene/input_indoor_scene.jpg\u001b[39m\u001b[38;5;124m\"\u001b[39m\u001b[38;5;124m --output \u001b[39m\u001b[38;5;124m\"\u001b[39m\u001b[38;5;124m/content/drive/MyDrive/Project P2/Input Indoor Scene After Image Inpainting\u001b[39m\u001b[38;5;124m\"\u001b[39m\u001b[38;5;124m --remove 18 9 11 --cpu yes\u001b[39m\u001b[38;5;124m'\u001b[39m)\n\u001b[0;32m     22\u001b[0m   time\u001b[38;5;241m.\u001b[39msleep(\u001b[38;5;241m60\u001b[39m)\n\u001b[1;32m---> 24\u001b[0m \u001b[43minpainting\u001b[49m\u001b[43m(\u001b[49m\u001b[43m)\u001b[49m\n",
                        "Cell \u001b[1;32mIn[2], line 9\u001b[0m, in \u001b[0;36minpainting\u001b[1;34m()\u001b[0m\n\u001b[0;32m      7\u001b[0m \u001b[38;5;28;01mimport\u001b[39;00m \u001b[38;5;21;01mmath\u001b[39;00m\n\u001b[0;32m      8\u001b[0m \u001b[38;5;28;01mimport\u001b[39;00m \u001b[38;5;21;01mnumpy\u001b[39;00m \u001b[38;5;28;01mas\u001b[39;00m \u001b[38;5;21;01mnp\u001b[39;00m\n\u001b[1;32m----> 9\u001b[0m \u001b[38;5;28;01mimport\u001b[39;00m \u001b[38;5;21;01mskimage\u001b[39;00m\u001b[38;5;21;01m.\u001b[39;00m\u001b[38;5;21;01mio\u001b[39;00m\n\u001b[0;32m     10\u001b[0m \u001b[38;5;28;01mimport\u001b[39;00m \u001b[38;5;21;01mmatplotlib\u001b[39;00m\n\u001b[0;32m     11\u001b[0m \u001b[38;5;28;01mimport\u001b[39;00m \u001b[38;5;21;01mmatplotlib\u001b[39;00m\u001b[38;5;21;01m.\u001b[39;00m\u001b[38;5;21;01mpyplot\u001b[39;00m \u001b[38;5;28;01mas\u001b[39;00m \u001b[38;5;21;01mplt\u001b[39;00m\n",
                        "\u001b[1;31mModuleNotFoundError\u001b[0m: No module named 'skimage'"
                    ],
                    "ename": "ModuleNotFoundError",
                    "evalue": "No module named 'skimage'",
                    "output_type": "error"
                }
            ],
            "execution_count": 2
        }
    ]
}