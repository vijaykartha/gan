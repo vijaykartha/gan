{
  "cells": [
    {
      "cell_type": "markdown",
      "metadata": {
        "id": "view-in-github",
        "colab_type": "text"
      },
      "source": [
        "<a href=\"https://colab.research.google.com/github/resmyvijay/Furniture-Replacement/blob/main/Inpainting.ipynb\" target=\"_parent\"><img src=\"https://colab.research.google.com/assets/colab-badge.svg\" alt=\"Open In Colab\"/></a>"
      ]
    },
    {
      "cell_type": "code",
      "execution_count": null,
      "metadata": {
        "colab": {
          "background_save": true,
          "base_uri": "https://localhost:8080/",
          "height": 749
        },
        "id": "rIsxrFJuPCWy",
        "outputId": "82f97555-55fe-421b-90ea-6c9237348098"
      },
      "outputs": [
        {
          "name": "stdout",
          "output_type": "stream",
          "text": [
            "Collecting anvil-uplink\n",
            "  Downloading anvil_uplink-0.3.41-py2.py3-none-any.whl (64 kB)\n",
            "\u001b[K     |████████████████████████████████| 64 kB 2.1 MB/s \n",
            "\u001b[?25hCollecting argparse\n",
            "  Downloading argparse-1.4.0-py2.py3-none-any.whl (23 kB)\n",
            "Requirement already satisfied: six in /usr/local/lib/python3.7/dist-packages (from anvil-uplink) (1.15.0)\n",
            "Requirement already satisfied: future in /usr/local/lib/python3.7/dist-packages (from anvil-uplink) (0.16.0)\n",
            "Collecting ws4py\n",
            "  Downloading ws4py-0.5.1.tar.gz (51 kB)\n",
            "\u001b[K     |████████████████████████████████| 51 kB 175 kB/s \n",
            "\u001b[?25hBuilding wheels for collected packages: ws4py\n",
            "  Building wheel for ws4py (setup.py) ... \u001b[?25l\u001b[?25hdone\n",
            "  Created wheel for ws4py: filename=ws4py-0.5.1-py3-none-any.whl size=45229 sha256=da5d7482ecc326f4ebd509f3b807570e4bdd0990437efd1bc2edaef75b2815ef\n",
            "  Stored in directory: /root/.cache/pip/wheels/29/ea/7d/3410aa0aa0e4402ead9a7a97ab2214804887e0f5c2b76f0c96\n",
            "Successfully built ws4py\n",
            "Installing collected packages: ws4py, argparse, anvil-uplink\n",
            "Successfully installed anvil-uplink-0.3.41 argparse-1.4.0 ws4py-0.5.1\n"
          ]
        },
        {
          "data": {
            "application/vnd.colab-display-data+json": {
              "pip_warning": {
                "packages": [
                  "argparse",
                  "google"
                ]
              }
            }
          },
          "metadata": {},
          "output_type": "display_data"
        },
        {
          "name": "stdout",
          "output_type": "stream",
          "text": [
            "Connecting to wss://anvil.works/uplink\n",
            "Anvil websocket open\n",
            "Connected to \"Development\" as SERVER\n",
            "Starting Image Inpainting\n",
            "/content/drive/MyDrive/Project P2/Automated-objects-removal-inpainter\n",
            "Downloading: \"https://download.pytorch.org/models/fcn_resnet101_coco-7ecb50ca.pth\" to /root/.cache/torch/hub/checkpoints/fcn_resnet101_coco-7ecb50ca.pth\n",
            "100% 208M/208M [00:02<00:00, 87.3MB/s]\n",
            "Downloading: \"https://download.pytorch.org/models/deeplabv3_resnet101_coco-586e9e4e.pth\" to /root/.cache/torch/hub/checkpoints/deeplabv3_resnet101_coco-586e9e4e.pth\n",
            "100% 233M/233M [00:02<00:00, 84.1MB/s]\n",
            "Downloading: \"https://download.pytorch.org/models/vgg19-dcbb9e9d.pth\" to /root/.cache/torch/hub/checkpoints/vgg19-dcbb9e9d.pth\n",
            "100% 548M/548M [00:16<00:00, 35.1MB/s]\n",
            "Loading EdgeModel generator...\n",
            "Loading InpaintingModel generator...\n",
            "\n",
            "start testing...\n",
            "\n",
            "1 input_indoor_scene.jpg\n",
            "\n",
            "End test....\n"
          ]
        }
      ],
      "source": [
        "\n",
        "# Install the libraries for anvil works for allowing the webapp to call this code\n",
        "!pip install anvil-uplink\n",
        "import anvil.server\n",
        "anvil.server.connect(\"UZHKPZA7PFTKJ5AATECVZH2O-TIWTHG6M4FGTKGST\")\n",
        "import anvil.media\n",
        "import anvil.tables.query as q\n",
        "from anvil.tables import app_tables\n",
        "\n",
        "\n",
        "# Create a function callable by Anvil\n",
        "@anvil.server.callable\n",
        "def inpainting():\n",
        "  import os\n",
        "  import sys\n",
        "  import random\n",
        "  import math\n",
        "  import numpy as np\n",
        "  import skimage.io\n",
        "  import matplotlib\n",
        "  import matplotlib.pyplot as plt\n",
        "  import warnings\n",
        "  import time\n",
        "\n",
        "  from PIL import Image\n",
        "\n",
        "  print(\"Starting Image Inpainting\")\n",
        "  %cd /content/drive/MyDrive/Project P2/Automated-objects-removal-inpainter/\n",
        "\n",
        "  # Provide the input indoor scene image as input and get an image with the furniture object removed\n",
        "  !python test.py --input \"/content/drive/MyDrive/Project P2/Input Indoor Scene/input_indoor_scene.jpg\" --output \"/content/drive/MyDrive/Project P2/Input Indoor Scene After Image Inpainting\" --remove 18 9 11 --cpu yes\n",
        "  time.sleep(60)\n",
        "\n",
        "  media_object = anvil.media.from_file('/content/drive/MyDrive/Project P2/Input Indoor Scene After Image Inpainting/input_indoor_scene.jpg')\n",
        "  return media_object\n",
        "\n",
        "@anvil.server.callable\n",
        "def query_start_inpainting():\n",
        "  return 1\n",
        "anvil.server.wait_forever()"
      ]
    }
  ],
  "metadata": {
    "colab": {
      "collapsed_sections": [],
      "name": "Inpainting",
      "provenance": [],
      "mount_file_id": "18dKbm2S51P_24s58rye7O_dIszX_0uGU",
      "authorship_tag": "ABX9TyPX7cPwdudh53ZsK6vEqUeB",
      "include_colab_link": true
    },
    "kernelspec": {
      "display_name": "Python 3",
      "name": "python3"
    },
    "language_info": {
      "name": "python"
    }
  },
  "nbformat": 4,
  "nbformat_minor": 0
}